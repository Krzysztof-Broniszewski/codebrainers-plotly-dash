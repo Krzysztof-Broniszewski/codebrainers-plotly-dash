{
 "cells": [
  {
   "cell_type": "code",
   "execution_count": 49,
   "metadata": {},
   "outputs": [],
   "source": [
    "import pandas as pd\n",
    "import dash\n",
    "from dash import html, dcc\n",
    "from dash.dependencies import Input, Output"
   ]
  },
  {
   "cell_type": "code",
   "execution_count": 47,
   "metadata": {},
   "outputs": [],
   "source": [
    "data = pd.read_excel(\"D:\\Programowanie\\Python\\Projects\\codebrainers-plotly-dash\\Wypadki_2004_2023_KGP.xlsx\")"
   ]
  },
  {
   "cell_type": "code",
   "execution_count": null,
   "metadata": {},
   "outputs": [
    {
     "name": "stdout",
     "output_type": "stream",
     "text": [
      "Index(['Unnamed: 0', 'Unnamed: 1', 'Unnamed: 2', 'Unnamed: 3', 'Unnamed: 4',\n",
      "       'Unnamed: 5', 'Unnamed: 6', 'Unnamed: 7', 'Unnamed: 8', 'Unnamed: 9'],\n",
      "      dtype='object')\n",
      "     Rok Wypadki drogowe Ofiary śmiertelne  Ranni\n",
      "0   2004           51069              5712  64661\n",
      "1   2005           48100              5444  61191\n",
      "2   2006           46876              5243  59123\n",
      "3   2007           49536              5583  63224\n",
      "4   2008           49054              5437  62097\n",
      "5   2009           44196              4572  56046\n",
      "6   2010           38832              3907  48952\n",
      "7   2011           40065              4189  49501\n",
      "8   2012           37046              3571  45792\n",
      "9   2013           35847              3357  44059\n",
      "10  2014           34970              3202  42545\n",
      "11  2015           32967              2938  39778\n",
      "12  2016           33664              3026  40766\n",
      "13  2017           32760              2831  39466\n",
      "14  2018           31674              2862  37359\n",
      "15  2019           30288              2909  35477\n",
      "16  2020           23540              2491  26463\n",
      "17  2021           22816              2245  26415\n",
      "18  2022           21322              1896  24743\n",
      "19  2023           20936              1893  24125\n"
     ]
    }
   ],
   "source": [
    "new_columns_names = data.iloc[4, 1:5].values\n",
    "crash_stats = pd.DataFrame(data.iloc[6:26, 1:5].values, columns = new_columns_names)\n",
    "print(crash_stats)"
   ]
  },
  {
   "cell_type": "code",
   "execution_count": null,
   "metadata": {},
   "outputs": [],
   "source": []
  }
 ],
 "metadata": {
  "kernelspec": {
   "display_name": "env311",
   "language": "python",
   "name": "python3"
  },
  "language_info": {
   "codemirror_mode": {
    "name": "ipython",
    "version": 3
   },
   "file_extension": ".py",
   "mimetype": "text/x-python",
   "name": "python",
   "nbconvert_exporter": "python",
   "pygments_lexer": "ipython3",
   "version": "3.11.10"
  }
 },
 "nbformat": 4,
 "nbformat_minor": 2
}
